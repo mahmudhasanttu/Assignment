{
 "cells": [
  {
   "cell_type": "markdown",
   "metadata": {},
   "source": [
    "<center>\n",
    "    <img src=\"https://cf-courses-data.s3.us.cloud-object-storage.appdomain.cloud/IBMDeveloperSkillsNetwork-DS0105EN-SkillsNetwork/labs/Module2/images/SN_web_lightmode.png\" width=\"300\" alt=\"cognitiveclass.ai logo\">\n",
    "</center>\n"
   ]
  },
  {
   "cell_type": "markdown",
   "metadata": {},
   "source": [
    "#### Add your code below following the instructions given in the course\n"
   ]
  },
  {
   "cell_type": "markdown",
   "metadata": {},
   "source": [
    "### Ex 2 Jupyter_Notebook\n",
    "Assignment "
   ]
  },
  {
   "cell_type": "markdown",
   "metadata": {},
   "source": [
    "### Ex 3 Introduction\n",
    "\n",
    "Hello! My name is **Hasan**.  \n",
    "I am a **PhD student** in the **Department of Economics** at **Texas Tech University**, USA.  \n",
    "I am passionate about research, data analysis, and applying economic theory to real-world problems.\n"
   ]
  },
  {
   "cell_type": "markdown",
   "metadata": {},
   "source": [
    "### Ex 4: List of Common Data Science Libraries\n",
    "\n",
    "1. **Pandas** – Used for data manipulation and analysis in Python  \n",
    "2. **NumPy** – Provides support for numerical operations and array structures  \n",
    "3. **Matplotlib** – Used for creating static, animated, and interactive visualizations\n"
   ]
  },
  {
   "cell_type": "markdown",
   "metadata": {},
   "source": [
    "### Ex 5 : Common Data Science Libraries\n",
    "\n",
    "- **Pandas** – For data manipulation and analysis  \n",
    "- **NumPy** – For numerical computing and array operations  \n",
    "- **Matplotlib** – For data visualization through plots and charts  \n",
    "\n"
   ]
  },
  {
   "cell_type": "markdown",
   "metadata": {},
   "source": [
    "\n",
    "### Ex 6 Table: Common Data Science Tools\n",
    "\n",
    "| Tool Name         | Description                                       | Language Support     |\n",
    "|-------------------|---------------------------------------------------|-----------------------|\n",
    "| Jupyter Notebook  | Interactive coding and visualization environment | Python, R, Julia      |\n",
    "| RStudio           | IDE for R programming and analysis                | R                     |\n",
    "| Tableau           | Data visualization and dashboarding tool         | Drag-and-drop (GUI)   |\n",
    "| Apache Spark      | Big data processing and analytics engine         | Python, Scala, Java   |\n",
    "| Excel             | Spreadsheet software with data functions          | GUI, VBA              |\n"
   ]
  },
  {
   "cell_type": "markdown",
   "metadata": {},
   "source": [
    "### Ex 7 Arithmetic Expression Examples\n",
    "\n",
    "In Python, you can perform arithmetic operations using simple expressions. Here are some basic examples:\n",
    "\n",
    "- **Addition**: `5 + 3` results in **8**\n",
    "- **Subtraction**: `10 - 4` results in **6**\n",
    "- **Multiplication**: `6 * 7` results in **42**\n",
    "- **Division**: `20 / 5` results in **4.0**\n",
    "- **Exponentiation**: `2 ** 3` results in **8**\n",
    "- **Modulus (Remainder)**: `10 % 3` results in **1**\n"
   ]
  },
  {
   "cell_type": "code",
   "execution_count": null,
   "metadata": {},
   "outputs": [],
   "source": [
    "# Ex 8 Multiply and add numbers\n",
    "a = 5\n",
    "b = 3\n",
    "\n",
    "product = a * b\n",
    "sum_result = a + b\n",
    "\n",
    "print(\"Product:\", product)\n",
    "print(\"Sum:\", sum_result)\n"
   ]
  },
  {
   "cell_type": "code",
   "execution_count": null,
   "metadata": {},
   "outputs": [],
   "source": [
    "# Ex 9 Convert minutes to hours\n",
    "minutes = 150\n",
    "\n",
    "hours = minutes / 60\n",
    "\n",
    "print(f\"{minutes} minutes is equal to {hours} hours.\")\n"
   ]
  },
  {
   "cell_type": "markdown",
   "metadata": {},
   "source": [
    "### Ex 10 Objectives\n",
    "**Objectives of Data Science**\n",
    "- Understand the basics of data science and its tools  \n",
    "- Learn to write and execute Python code in Jupyter Notebook  \n",
    "- Perform basic arithmetic and data manipulation  \n",
    "- Visualize and interpret data using appropriate libraries  \n",
    "- Apply programming skills to solve real-world problems\n"
   ]
  },
  {
   "cell_type": "markdown",
   "metadata": {},
   "source": [
    "### Ex 11 Authers Name\n",
    "\n",
    "**Author:** Hasan  \n",
    "**Affiliation:** Department of Economics, Texas Tech University\n"
   ]
  },
  {
   "cell_type": "code",
   "execution_count": null,
   "metadata": {},
   "outputs": [],
   "source": []
  }
 ],
 "metadata": {
  "kernelspec": {
   "display_name": "Python 3 (ipykernel)",
   "language": "python",
   "name": "python3"
  },
  "language_info": {
   "codemirror_mode": {
    "name": "ipython",
    "version": 3
   },
   "file_extension": ".py",
   "mimetype": "text/x-python",
   "name": "python",
   "nbconvert_exporter": "python",
   "pygments_lexer": "ipython3",
   "version": "3.12.8"
  }
 },
 "nbformat": 4,
 "nbformat_minor": 4
}
